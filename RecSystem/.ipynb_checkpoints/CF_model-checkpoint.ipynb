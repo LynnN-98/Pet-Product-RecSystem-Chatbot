{
 "cells": [
  {
   "cell_type": "code",
   "execution_count": 1,
   "id": "1d94c5c4-a7d2-4388-863a-252e1afdaf90",
   "metadata": {},
   "outputs": [
    {
     "name": "stdout",
     "output_type": "stream",
     "text": [
      "Requirement already satisfied: surprise in /opt/conda/lib/python3.11/site-packages (0.1)\n",
      "Requirement already satisfied: scikit-surprise in /opt/conda/lib/python3.11/site-packages (from surprise) (1.1.4)\n",
      "Requirement already satisfied: joblib>=1.2.0 in /opt/conda/lib/python3.11/site-packages (from scikit-surprise->surprise) (1.4.2)\n",
      "Requirement already satisfied: numpy>=1.19.5 in /opt/conda/lib/python3.11/site-packages (from scikit-surprise->surprise) (1.26.4)\n",
      "Requirement already satisfied: scipy>=1.6.0 in /opt/conda/lib/python3.11/site-packages (from scikit-surprise->surprise) (1.14.1)\n"
     ]
    }
   ],
   "source": [
    "!pip install surprise"
   ]
  },
  {
   "cell_type": "code",
   "execution_count": 3,
   "id": "c5052cec-7c01-4e9f-9ac8-383b47f865dd",
   "metadata": {
    "tags": []
   },
   "outputs": [],
   "source": [
    "import pandas as pd\n",
    "import numpy as np\n",
    "import random\n",
    "from surprise import Dataset, Reader, SVD, SlopeOne, CoClustering, SVDpp\n",
    "from surprise import accuracy\n",
    "from tqdm.auto import tqdm\n",
    "from sklearn.metrics import roc_auc_score\n",
    "from collections import defaultdict\n",
    "\n",
    "seed = 42\n",
    "random.seed(seed)\n",
    "np.random.seed(seed)\n",
    "data_dir = '/home/sagemaker-user/Data/'\n",
    "model_dir = '/home/sagemaker-user/Models/'\n",
    "log_dir = '/home/sagemaker-user/Logs/'"
   ]
  },
  {
   "cell_type": "code",
   "execution_count": 4,
   "id": "f5d0949c-1e65-4e60-a395-8343a417faf0",
   "metadata": {},
   "outputs": [],
   "source": [
    "train_df = pd.read_pickle(data_dir+'clean_data/train_set.pkl')\n",
    "test_df = pd.read_pickle(data_dir+'clean_data/test_set.pkl')"
   ]
  },
  {
   "cell_type": "code",
   "execution_count": 5,
   "id": "0f7901ee-5159-4516-b429-10b14590e274",
   "metadata": {
    "tags": []
   },
   "outputs": [
    {
     "data": {
      "text/plain": [
       "user_id\n",
       "AG73BVBKUOH22USSFJA5ZWL7AKXA    1426\n",
       "AHPOHKN4PU4W3V5PGFL7AGTAD2AA    1198\n",
       "AHEMJ62SUJPUYNWGROPI6MUAYQ5A     924\n",
       "AEYVPPWR4CIKWX4BGYKCBCDL2CZQ     924\n",
       "AH665SQ6SQF6DXAGYIQFCX76LALA     778\n",
       "                                ... \n",
       "AFI6HA2MBKJJEMGAIBHQOGPO5TMQ       2\n",
       "AFI6G2GDXADHCF5F5NOQ4YGOFLJQ       2\n",
       "AFI6F65FPRQLQZCNY5QGHRHBCAOQ       2\n",
       "AFI6F4Q7RL5DWL7OQIPM5Z6AE2TA       2\n",
       "AFI6JBTMHUXK77EE2DHURX7PFXTQ       2\n",
       "Name: count, Length: 290475, dtype: int64"
      ]
     },
     "execution_count": 5,
     "metadata": {},
     "output_type": "execute_result"
    }
   ],
   "source": [
    "train_df.user_id.value_counts()"
   ]
  },
  {
   "cell_type": "code",
   "execution_count": 8,
   "id": "2411a845-4396-46f6-9ea7-2fa8e8a42c21",
   "metadata": {},
   "outputs": [
    {
     "data": {
      "text/plain": [
       "(1258132, 5)"
      ]
     },
     "execution_count": 8,
     "metadata": {},
     "output_type": "execute_result"
    }
   ],
   "source": [
    "train_df.shape"
   ]
  },
  {
   "cell_type": "code",
   "execution_count": 6,
   "id": "3121759b-bc56-48d9-aa71-f6cc80c15bb0",
   "metadata": {},
   "outputs": [
    {
     "data": {
      "text/html": [
       "<div>\n",
       "<style scoped>\n",
       "    .dataframe tbody tr th:only-of-type {\n",
       "        vertical-align: middle;\n",
       "    }\n",
       "\n",
       "    .dataframe tbody tr th {\n",
       "        vertical-align: top;\n",
       "    }\n",
       "\n",
       "    .dataframe thead th {\n",
       "        text-align: right;\n",
       "    }\n",
       "</style>\n",
       "<table border=\"1\" class=\"dataframe\">\n",
       "  <thead>\n",
       "    <tr style=\"text-align: right;\">\n",
       "      <th></th>\n",
       "      <th>user_id</th>\n",
       "      <th>parent_asin</th>\n",
       "      <th>label</th>\n",
       "      <th>rating</th>\n",
       "      <th>timestamp</th>\n",
       "    </tr>\n",
       "  </thead>\n",
       "  <tbody>\n",
       "    <tr>\n",
       "      <th>0</th>\n",
       "      <td>AE22236AFRRSMQIKGG7TPTB75QEA</td>\n",
       "      <td>B0002C7FHC</td>\n",
       "      <td>1</td>\n",
       "      <td>5</td>\n",
       "      <td>2009-09-19 19:42:10</td>\n",
       "    </tr>\n",
       "    <tr>\n",
       "      <th>1</th>\n",
       "      <td>AE22236AFRRSMQIKGG7TPTB75QEA</td>\n",
       "      <td>B00UFKQKLS</td>\n",
       "      <td>1</td>\n",
       "      <td>5</td>\n",
       "      <td>2014-03-07 15:31:31</td>\n",
       "    </tr>\n",
       "    <tr>\n",
       "      <th>2</th>\n",
       "      <td>AE22236AFRRSMQIKGG7TPTB75QEA</td>\n",
       "      <td>B01I6X61OQ</td>\n",
       "      <td>1</td>\n",
       "      <td>5</td>\n",
       "      <td>2014-03-07 17:06:29</td>\n",
       "    </tr>\n",
       "    <tr>\n",
       "      <th>3</th>\n",
       "      <td>AE22236AFRRSMQIKGG7TPTB75QEA</td>\n",
       "      <td>B0713WBZM7</td>\n",
       "      <td>0</td>\n",
       "      <td>0</td>\n",
       "      <td>2009-09-19 19:42:10</td>\n",
       "    </tr>\n",
       "    <tr>\n",
       "      <th>4</th>\n",
       "      <td>AE22236AFRRSMQIKGG7TPTB75QEA</td>\n",
       "      <td>B0BVM3J8GW</td>\n",
       "      <td>0</td>\n",
       "      <td>0</td>\n",
       "      <td>2014-03-07 15:31:31</td>\n",
       "    </tr>\n",
       "  </tbody>\n",
       "</table>\n",
       "</div>"
      ],
      "text/plain": [
       "                        user_id parent_asin  label  rating           timestamp\n",
       "0  AE22236AFRRSMQIKGG7TPTB75QEA  B0002C7FHC      1       5 2009-09-19 19:42:10\n",
       "1  AE22236AFRRSMQIKGG7TPTB75QEA  B00UFKQKLS      1       5 2014-03-07 15:31:31\n",
       "2  AE22236AFRRSMQIKGG7TPTB75QEA  B01I6X61OQ      1       5 2014-03-07 17:06:29\n",
       "3  AE22236AFRRSMQIKGG7TPTB75QEA  B0713WBZM7      0       0 2009-09-19 19:42:10\n",
       "4  AE22236AFRRSMQIKGG7TPTB75QEA  B0BVM3J8GW      0       0 2014-03-07 15:31:31"
      ]
     },
     "execution_count": 6,
     "metadata": {},
     "output_type": "execute_result"
    }
   ],
   "source": [
    "train_df.head()"
   ]
  },
  {
   "cell_type": "code",
   "execution_count": null,
   "id": "3e7ea25d-0609-402f-8ab9-8e20f9612a57",
   "metadata": {},
   "outputs": [
    {
     "name": "stdout",
     "output_type": "stream",
     "text": [
      "\n",
      "Training model: SVD\n",
      "Making predictions on the test set...\n"
     ]
    }
   ],
   "source": [
    "import os\n",
    "from surprise import Dataset, Reader, SVD, SVDpp, SlopeOne, CoClustering, accuracy\n",
    "from surprise.model_selection import train_test_split\n",
    "from sklearn.metrics import roc_auc_score\n",
    "import pandas as pd\n",
    "import numpy as np\n",
    "\n",
    "# Load and preprocess explicit feedback data for collaborative filtering\n",
    "# Define rating range for explicit feedback\n",
    "reader_explicit = Reader(rating_scale=(1, 5))  # Explicit ratings range from 1 to 5\n",
    "\n",
    "# Load training data\n",
    "# train_df should be a DataFrame containing 'user_id', 'parent_asin' (item ID), and 'rating' columns\n",
    "train_explicit = Dataset.load_from_df(train_df[['user_id', 'parent_asin', 'rating']], reader_explicit)\n",
    "trainset_explicit = train_explicit.build_full_trainset()  # Convert to training set format required by Surprise library\n",
    "\n",
    "# Load testing data\n",
    "# test_df should contain 'user_id', 'parent_asin', and 'rating' (or 'label' for classification)\n",
    "test_set_explicit = list(zip(test_df['user_id'], test_df['parent_asin'], test_df['rating']))\n",
    "\n",
    "# Define models for explicit feedback prediction\n",
    "# Removed NMF model as per the requirement\n",
    "models_explicit = {\n",
    "    'SVD': SVD(random_state=seed),  # Singular Value Decomposition\n",
    "    'SVD++': SVDpp(random_state=seed),  # Enhanced version of SVD considering implicit feedback\n",
    "    'SlopeOne': SlopeOne(),  # Simple and efficient collaborative filtering algorithm\n",
    "    'CoClustering': CoClustering(random_state=seed)  # Co-clustering approach for collaborative filtering\n",
    "}\n",
    "\n",
    "# Train each model and evaluate predictions\n",
    "model_predictions_explicit = {}  # Store predictions for each model\n",
    "model_metrics_explicit = {}  # Store evaluation metrics for each model\n",
    "\n",
    "for model_name, model in models_explicit.items():\n",
    "    print(f\"\\nTraining model: {model_name}\")\n",
    "    model.fit(trainset_explicit)  # Train the model on the training set\n",
    "\n",
    "    print(\"Making predictions on the test set...\")\n",
    "    predictions = model.test(test_set_explicit)  # Generate predictions on the test set\n",
    "\n",
    "    # Calculate RMSE (Root Mean Square Error) for prediction quality\n",
    "    rmse = accuracy.rmse(predictions, verbose=True)\n",
    "\n",
    "    # Store predictions\n",
    "    model_predictions_explicit[model_name] = predictions\n",
    "\n",
    "    # Calculate ROC AUC (Area Under the Receiver Operating Characteristic Curve)\n",
    "    y_true = test_df['label']  # True binary labels for the test set\n",
    "    y_pred = [pred.est for pred in predictions]  # Predicted ratings\n",
    "    roc_auc = roc_auc_score(y_true, y_pred)\n",
    "\n",
    "    # Store evaluation metrics\n",
    "    model_metrics_explicit[model_name] = {\n",
    "        'RMSE': rmse,\n",
    "        'ROC_AUC': roc_auc\n",
    "    }\n",
    "\n",
    "# Define the directory for saving results\n",
    "result_dir = os.path.join('../Results', 'CF_model')  # Update path to reflect 'collaborative_filtering'\n",
    "\n",
    "# Create the directory if it doesn't exist\n",
    "os.makedirs(result_dir, exist_ok=True)\n",
    "\n",
    "# Save evaluation metrics to a text file\n",
    "metrics_file_path = os.path.join(result_dir, 'metrics.txt')\n",
    "\n",
    "with open(metrics_file_path, 'w', encoding='utf-8') as f:\n",
    "    f.write(\"Evaluation Metrics for Explicit Feedback Models\\n\")\n",
    "    f.write(\"=============================================\\n\\n\")\n",
    "    for model_name, metrics in model_metrics_explicit.items():\n",
    "        f.write(f\"Model: {model_name}\\n\")\n",
    "        f.write(f\"RMSE: {metrics['RMSE']:.4f}\\n\")\n",
    "        f.write(f\"ROC AUC: {metrics['ROC_AUC']:.4f}\\n\\n\")\n",
    "\n",
    "print(f\"Evaluation metrics have been saved to {metrics_file_path}\")\n",
    "\n",
    "# Save predictions for each model to separate files\n",
    "for model_name, predictions in model_predictions_explicit.items():\n",
    "    # Define the file path for predictions\n",
    "    predictions_file_path = os.path.join(result_dir, f\"{model_name}_predictions.txt\")\n",
    "    \n",
    "    # Write predictions to the file\n",
    "    with open(predictions_file_path, 'w', encoding='utf-8') as f:\n",
    "        f.write(f\"{model_name} Model Predictions\\n\")\n",
    "        f.write(\"=============================================\\n\\n\")\n",
    "        for pred in predictions:\n",
    "            f.write(f\"User ID: {pred.uid}, Item ID: {pred.iid}, True Rating: {pred.r_ui}, Predicted Rating: {pred.est}\\n\")\n",
    "    \n",
    "    print(f\"Predictions for the {model_name} model have been saved to {predictions_file_path}\")\n"
   ]
  },
  {
   "cell_type": "code",
   "execution_count": null,
   "id": "bc14ef83-d7e9-4825-9aa6-a10799665c01",
   "metadata": {},
   "outputs": [],
   "source": []
  }
 ],
 "metadata": {
  "kernelspec": {
   "display_name": "Python 3 (ipykernel)",
   "language": "python",
   "name": "python3"
  },
  "language_info": {
   "codemirror_mode": {
    "name": "ipython",
    "version": 3
   },
   "file_extension": ".py",
   "mimetype": "text/x-python",
   "name": "python",
   "nbconvert_exporter": "python",
   "pygments_lexer": "ipython3",
   "version": "3.11.10"
  }
 },
 "nbformat": 4,
 "nbformat_minor": 5
}
